{
 "cells": [
  {
   "cell_type": "code",
   "execution_count": 2,
   "id": "a1d091d6",
   "metadata": {},
   "outputs": [
    {
     "name": "stdout",
     "output_type": "stream",
     "text": [
      "Repository cloned to project_repo\n"
     ]
    }
   ],
   "source": [
    "import git\n",
    "import os\n",
    "\n",
    "def clone_repo(repo_url, clone_dir=\"project_repo\"):\n",
    "    \"\"\"Clone a GitHub repository.\"\"\"\n",
    "    if not os.path.exists(clone_dir):\n",
    "        git.Repo.clone_from(repo_url, clone_dir)\n",
    "        print(f\"Repository cloned to {clone_dir}\")\n",
    "    else:\n",
    "        print(\"Repository already exists.\")\n",
    "\n",
    "# Example usage\n",
    "repo_url = \"https://github.com/7rashhi/chatbot\"  \n",
    "clone_repo(repo_url)\n"
   ]
  }
 ],
 "metadata": {
  "kernelspec": {
   "display_name": "Python 3 (ipykernel)",
   "language": "python",
   "name": "python3"
  },
  "language_info": {
   "codemirror_mode": {
    "name": "ipython",
    "version": 3
   },
   "file_extension": ".py",
   "mimetype": "text/x-python",
   "name": "python",
   "nbconvert_exporter": "python",
   "pygments_lexer": "ipython3",
   "version": "3.10.9"
  }
 },
 "nbformat": 4,
 "nbformat_minor": 5
}
