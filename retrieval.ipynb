{
 "cells": [
  {
   "cell_type": "code",
   "execution_count": 10,
   "id": "9fd255e0",
   "metadata": {},
   "outputs": [
    {
     "name": "stderr",
     "output_type": "stream",
     "text": [
      "/Users/rashhigupta/anaconda3/lib/python3.10/site-packages/tqdm/auto.py:21: TqdmWarning: IProgress not found. Please update jupyter and ipywidgets. See https://ipywidgets.readthedocs.io/en/stable/user_install.html\n",
      "  from .autonotebook import tqdm as notebook_tqdm\n",
      "No sentence-transformers model found with name microsoft/codebert-base. Creating a new one with mean pooling.\n",
      "Add of existing embedding ID: 0\n",
      "Add of existing embedding ID: 1\n",
      "Insert of existing embedding ID: 0\n",
      "Add of existing embedding ID: 0\n",
      "Insert of existing embedding ID: 1\n",
      "Add of existing embedding ID: 1\n",
      "Number of requested results 3 is greater than number of elements in index 2, updating n_results = 2\n"
     ]
    },
    {
     "name": "stdout",
     "output_type": "stream",
     "text": [
      "Embeddings successfully stored in vector database.\n",
      "\n",
      "Retrieved Code Snippets: [[{'content': \"@app.route('/')\\ndef home():\\n    return render_template('index.html')\"}, {'content': \"@app.route('/api/chat', methods=['POST'])\\ndef chat():\\n    try:\\n        data = request.json\\n        user_input = data.get('message')\\n        if not user_input:\\n            return (jsonify({'error': 'No message provided'}), 400)\\n        chatbot_response = chat_chain.run(user_input)\\n        return jsonify({'response': chatbot_response})\\n    except Exception as e:\\n        print('Full Error:', str(e))\\n        return (jsonify({'error': str(e)}), 500)\"}]]\n"
     ]
    }
   ],
   "source": [
    "from generate_embeddings import model, chroma_client\n",
    "from search_online import search_online\n",
    "\n",
    "def retrieve_similar_snippets(query_snippet):\n",
    "    \"\"\"Retrieve similar code snippets from local DB, or fallback to searchcode.com\"\"\"\n",
    "    query_embedding = model.encode(query_snippet)\n",
    "    collection = chroma_client.get_collection(\"code_snippets\")\n",
    "\n",
    "    # Search in local vector DB\n",
    "    results = collection.query(\n",
    "        query_embeddings=[query_embedding], \n",
    "        n_results=3\n",
    "    )\n",
    "\n",
    "    if results[\"metadatas\"]:\n",
    "        return results[\"metadatas\"]\n",
    "    \n",
    "    # If no match, fetch from searchcode.com\n",
    "    print(\"No local match found. Searching online...\")\n",
    "    return search_online(query_snippet)\n",
    "\n",
    "# Example usage\n",
    "query_code = \"@app.route('/')\\ndef home():\\n    return render_template('index.html')\"\n",
    "retrieved_results = retrieve_similar_snippets(query_code)\n",
    "print(\"\\nRetrieved Code Snippets:\", retrieved_results)\n"
   ]
  },
  {
   "cell_type": "code",
   "execution_count": null,
   "id": "b8b30f00",
   "metadata": {},
   "outputs": [],
   "source": []
  }
 ],
 "metadata": {
  "kernelspec": {
   "display_name": "Python 3 (ipykernel)",
   "language": "python",
   "name": "python3"
  },
  "language_info": {
   "codemirror_mode": {
    "name": "ipython",
    "version": 3
   },
   "file_extension": ".py",
   "mimetype": "text/x-python",
   "name": "python",
   "nbconvert_exporter": "python",
   "pygments_lexer": "ipython3",
   "version": "3.10.9"
  }
 },
 "nbformat": 4,
 "nbformat_minor": 5
}
