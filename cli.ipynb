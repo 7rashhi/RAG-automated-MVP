{
 "cells": [
  {
   "cell_type": "code",
   "execution_count": 8,
   "id": "cda78fbc",
   "metadata": {},
   "outputs": [
    {
     "name": "stderr",
     "output_type": "stream",
     "text": [
      "Number of requested results 3 is greater than number of elements in index 2, updating n_results = 2\n"
     ]
    },
    {
     "name": "stdout",
     "output_type": "stream",
     "text": [
      "\n",
      "\u001b[92mRetrieved Code Snippets:\u001b[0m\n",
      "\u001b[91mUnexpected data format:\u001b[0m [{'content': \"@app.route('/api/chat', methods=['POST'])\\ndef chat():\\n    try:\\n        data = request.json\\n        user_input = data.get('message')\\n        if not user_input:\\n            return (jsonify({'error': 'No message provided'}), 400)\\n        chatbot_response = chat_chain.run(user_input)\\n        return jsonify({'response': chatbot_response})\\n    except Exception as e:\\n        print('Full Error:', str(e))\\n        return (jsonify({'error': str(e)}), 500)\"}, {'content': \"@app.route('/')\\ndef home():\\n    return render_template('index.html')\"}]\n"
     ]
    }
   ],
   "source": [
    "from retrieval import retrieve_similar_snippets\n",
    "\n",
    "def run_code_review(user_code):\n",
    "    \"\"\"Runs the code review assistant inside Jupyter Notebook.\"\"\"\n",
    "    retrieved_code = retrieve_similar_snippets(user_code)\n",
    "\n",
    "    print(\"\\n\\033[92mRetrieved Code Snippets:\\033[0m\")  # Green color\n",
    "    \n",
    "    if isinstance(retrieved_code, str):  # If no results found, it returns a string\n",
    "        print(retrieved_code)\n",
    "        return\n",
    "    \n",
    "    for snippet in retrieved_code:\n",
    "        if isinstance(snippet, dict):  # Ensure each item is a dictionary\n",
    "            print(\"\\n\\033[94mFrom:\\033[0m\", snippet.get(\"repo\", \"Unknown Repo\"), snippet.get(\"file\", \"Unknown File\"))\n",
    "            print(\"\\033[96mCode:\\033[0m\\n\", snippet.get(\"code\", \"No code available\"))\n",
    "        else:\n",
    "            print(\"\\033[91mUnexpected data format:\\033[0m\", snippet)\n",
    "\n",
    "# Example usage\n",
    "user_code = \"\"\"def add(a, b): return a + b\"\"\"\n",
    "run_code_review(user_code)\n"
   ]
  },
  {
   "cell_type": "code",
   "execution_count": null,
   "id": "fab6fa9a",
   "metadata": {},
   "outputs": [],
   "source": []
  }
 ],
 "metadata": {
  "kernelspec": {
   "display_name": "Python 3 (ipykernel)",
   "language": "python",
   "name": "python3"
  },
  "language_info": {
   "codemirror_mode": {
    "name": "ipython",
    "version": 3
   },
   "file_extension": ".py",
   "mimetype": "text/x-python",
   "name": "python",
   "nbconvert_exporter": "python",
   "pygments_lexer": "ipython3",
   "version": "3.10.9"
  }
 },
 "nbformat": 4,
 "nbformat_minor": 5
}
