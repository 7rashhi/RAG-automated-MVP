{
 "cells": [
  {
   "cell_type": "code",
   "execution_count": 1,
   "id": "068d88dd",
   "metadata": {},
   "outputs": [
    {
     "name": "stderr",
     "output_type": "stream",
     "text": [
      "/Users/rashhigupta/anaconda3/lib/python3.10/site-packages/tqdm/auto.py:21: TqdmWarning: IProgress not found. Please update jupyter and ipywidgets. See https://ipywidgets.readthedocs.io/en/stable/user_install.html\n",
      "  from .autonotebook import tqdm as notebook_tqdm\n",
      "No sentence-transformers model found with name microsoft/codebert-base. Creating a new one with mean pooling.\n",
      "Insert of existing embedding ID: 0\n",
      "Add of existing embedding ID: 0\n",
      "Insert of existing embedding ID: 1\n",
      "Add of existing embedding ID: 1\n"
     ]
    },
    {
     "name": "stdout",
     "output_type": "stream",
     "text": [
      "Embeddings successfully stored in vector database.\n"
     ]
    }
   ],
   "source": [
    "from sentence_transformers import SentenceTransformer\n",
    "import chromadb\n",
    "\n",
    "# Load CodeBERT model \n",
    "model = SentenceTransformer(\"microsoft/codebert-base\") \n",
    "\n",
    "# Initialize ChromaDB \n",
    "chroma_client = chromadb.PersistentClient(path=\"./vector_db\")\n",
    "\n",
    "def store_embeddings(code_units):\n",
    "    \"\"\"Generate embeddings and store in vector DB.\"\"\"\n",
    "    collection = chroma_client.get_or_create_collection(\"code_snippets\")\n",
    "    \n",
    "    for idx, code in enumerate(code_units):\n",
    "        embedding = model.encode(code)\n",
    "        collection.add(ids=[str(idx)], embeddings=[embedding], metadatas=[{\"content\": code}])\n",
    "\n",
    "    print(\"Embeddings successfully stored in vector database.\")\n",
    "\n",
    "# Example usage with extracted code\n",
    "code_units = [\n",
    "    \"@app.route('/')\\ndef home():\\n    return render_template('index.html')\",\n",
    "    \"@app.route('/api/chat', methods=['POST'])\\ndef chat():\\n    try:\\n        data = request.json\\n        user_input = data.get('message')\\n        if not user_input:\\n            return (jsonify({'error': 'No message provided'}), 400)\\n        chatbot_response = chat_chain.run(user_input)\\n        return jsonify({'response': chatbot_response})\\n    except Exception as e:\\n        print('Full Error:', str(e))\\n        return (jsonify({'error': str(e)}), 500)\"\n",
    "]\n",
    "\n",
    "store_embeddings(code_units)\n"
   ]
  },
  {
   "cell_type": "code",
   "execution_count": null,
   "id": "05d41c16",
   "metadata": {},
   "outputs": [],
   "source": []
  }
 ],
 "metadata": {
  "kernelspec": {
   "display_name": "Python 3 (ipykernel)",
   "language": "python",
   "name": "python3"
  },
  "language_info": {
   "codemirror_mode": {
    "name": "ipython",
    "version": 3
   },
   "file_extension": ".py",
   "mimetype": "text/x-python",
   "name": "python",
   "nbconvert_exporter": "python",
   "pygments_lexer": "ipython3",
   "version": "3.10.9"
  }
 },
 "nbformat": 4,
 "nbformat_minor": 5
}
